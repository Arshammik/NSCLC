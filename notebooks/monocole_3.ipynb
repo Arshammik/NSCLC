{
 "cells": [
  {
   "cell_type": "code",
   "execution_count": 15,
   "id": "3d4b27e9-561f-48d6-93d6-268958f5c590",
   "metadata": {},
   "outputs": [],
   "source": [
    "suppressPackageStartupMessages(library(data.table))\n",
    "suppressPackageStartupMessages(library(Seurat))\n",
    "suppressPackageStartupMessages(library(monocle3))\n",
    "suppressPackageStartupMessages(library(ggplot2))\n",
    "set.seed(42)"
   ]
  },
  {
   "cell_type": "code",
   "execution_count": null,
   "id": "e00799d0-71d2-4d3e-a5e5-1eb75668947a",
   "metadata": {},
   "outputs": [],
   "source": [
    "# Files directory\n",
    "\n",
    "monocole_3_learned_object_RDS_direction <- \"/home/arsham79/scratch/nsclc/results/monocole3_cds_objectd_trained.rds\"\n",
    "monocole_3_DEGs_RDS_direction <- \"/home/arsham79/scratch/nsclc/results/DEGs_monocole3.rds\""
   ]
  },
  {
   "cell_type": "code",
   "execution_count": 2,
   "id": "55a21eca-7e0f-4e7e-aa2b-edbc20eceb2c",
   "metadata": {},
   "outputs": [],
   "source": [
    "cds <- readRDS(monocole_3_learned_object_RDS_direction)"
   ]
  },
  {
   "cell_type": "code",
   "execution_count": 3,
   "id": "e8b2fd33-00d8-4349-9ae2-7c6867aa62b4",
   "metadata": {},
   "outputs": [
    {
     "ename": "ERROR",
     "evalue": "Error in plot_cells(cds, color_cells_by = \"partition\", label_branch_points = FALSE, : could not find function \"plot_cells\"\n",
     "output_type": "error",
     "traceback": [
      "Error in plot_cells(cds, color_cells_by = \"partition\", label_branch_points = FALSE, : could not find function \"plot_cells\"\nTraceback:\n"
     ]
    }
   ],
   "source": [
    "plot_cells(cds, color_cells_by = \"partition\", label_branch_points=FALSE, label_leaves=FALSE)"
   ]
  },
  {
   "cell_type": "code",
   "execution_count": null,
   "id": "e3d298e0-3bfa-4ec2-b76a-d1aa33b68d8e",
   "metadata": {},
   "outputs": [],
   "source": [
    "plot_cells(cds, color_cells_by = \"cell_type\", label_groups_by_cluster=FALSE, label_leaves=FALSE, label_branch_points=FALSE, labels_per_group = FALSE)"
   ]
  },
  {
   "cell_type": "code",
   "execution_count": null,
   "id": "7ca2d439-5e1a-4d65-852b-b13908d165d8",
   "metadata": {},
   "outputs": [],
   "source": [
    "plot_cells(cds, color_cells_by = \"pseudotime\", label_groups_by_cluster=FALSE, label_leaves=FALSE, label_branch_points=TRUE)"
   ]
  },
  {
   "cell_type": "code",
   "execution_count": null,
   "id": "fe6ba0f4-ba1d-4658-8c36-b96a6ac39feb",
   "metadata": {},
   "outputs": [],
   "source": [
    "cds$pseudotime_value <- pseudotime(cds)\n",
    "pseudotime_df <- as.data.frame(colData(cds))"
   ]
  },
  {
   "cell_type": "code",
   "execution_count": null,
   "id": "02c01d0d-bdad-438c-b706-ef1d0ed016e1",
   "metadata": {},
   "outputs": [],
   "source": [
    "ggplot(pseudotime_df, aes(x = pseudotime_value, y = reorder(cell_type, pseudotime_value, median), fill = cell_type)) + geom_boxplot() + NoLegend()"
   ]
  },
  {
   "cell_type": "code",
   "execution_count": null,
   "id": "9c5a0900-0b9b-4d79-98fd-eb9cf4fc8b13",
   "metadata": {},
   "outputs": [],
   "source": [
    "degs <- readRDS(monocole_3_DEGs_RDS_direction)"
   ]
  },
  {
   "cell_type": "code",
   "execution_count": null,
   "id": "46d9352b-edde-4e6c-8fdd-b413bd78d67c",
   "metadata": {},
   "outputs": [],
   "source": []
  }
 ],
 "metadata": {
  "kernelspec": {
   "display_name": "R",
   "language": "R",
   "name": "ir"
  },
  "language_info": {
   "codemirror_mode": "r",
   "file_extension": ".r",
   "mimetype": "text/x-r-source",
   "name": "R",
   "pygments_lexer": "r",
   "version": "4.3.1"
  }
 },
 "nbformat": 4,
 "nbformat_minor": 5
}
